{
 "cells": [
  {
   "cell_type": "code",
   "execution_count": 1,
   "metadata": {},
   "outputs": [],
   "source": [
    "# optimization of spacings between heliostats"
   ]
  },
  {
   "cell_type": "code",
   "execution_count": 2,
   "metadata": {},
   "outputs": [],
   "source": [
    "import os\n",
    "import math\n",
    "import numpy as np\n",
    "import matplotlib.pyplot as plt"
   ]
  },
  {
   "cell_type": "code",
   "execution_count": 3,
   "metadata": {},
   "outputs": [],
   "source": [
    "# https://docs.scipy.org/doc/scipy/reference/tutorial/optimize.html\n",
    "\n",
    "import scipy\n",
    "from scipy.optimize import minimize_scalar\n",
    "from scipy.optimize import minimize\n",
    "from scipy.optimize import Bounds\n",
    "from scipy import optimize"
   ]
  },
  {
   "cell_type": "markdown",
   "metadata": {},
   "source": [
    "## Generation of layout"
   ]
  },
  {
   "cell_type": "code",
   "execution_count": 76,
   "metadata": {},
   "outputs": [],
   "source": [
    "def findSpacings(xMin, xMax, xStep, isCentered, nMax):\n",
    "    # possible positions\n",
    "    x0 = 0. if isCentered else xStep/2;\n",
    "    ansP = np.arange(x0, xMax, xStep)\n",
    "    ansN = -np.arange(-(x0 - xStep), -xMin, xStep) \n",
    "    ans = np.concatenate((ansN, ansP))\n",
    "    # select\n",
    "    cmp = [(i, abs(v)) for (i, v) in enumerate(ans)]\n",
    "    cmp = sorted(cmp, key=lambda x: x[1])\n",
    "    nMax = min(nMax, len(cmp))\n",
    "    ans = [ans[cmp[n][0]] for n in range(nMax)]\n",
    "    # sort\n",
    "    ans = np.sort(ans)\n",
    "    return ans"
   ]
  },
  {
   "cell_type": "code",
   "execution_count": 81,
   "metadata": {},
   "outputs": [],
   "source": [
    "def writeRow(letter, spacings, y, z, f):\n",
    "    ans = \"\"\n",
    "    for (i, x) in enumerate(spacings):\n",
    "        ans += \"{name},{sx:.3f} {sy:.3f} {sz:.3f},{sf:.3f}\\n\".format(\n",
    "        name=letter + str(i + 1).zfill(2),\n",
    "        sx=x,\n",
    "        sy=y,\n",
    "        sz=z,\n",
    "        sf=f\n",
    "    )\n",
    "    return ans"
   ]
  },
  {
   "cell_type": "code",
   "execution_count": 145,
   "metadata": {},
   "outputs": [],
   "source": [
    "def writeLayout(s):\n",
    "    out = \"Name,Position [m],Focus [m]\\n\"\n",
    "    out += writeRow(\"A\", spacings(-35.11, 27., s[0], True, 7), 46, 10, 46)\n",
    "    out += writeRow(\"B\", spacings(-42.5, 30.33, s[1], False, 8), 52, 14.5, 52)\n",
    "    out += writeRow(\"C\", spacings(-50.77, 15.83, s[2], True, 5), 58, 19.5, 58)\n",
    "    #print(out)\n",
    "    fileOut = open(\"heliostatsB.csv\",\"w\")\n",
    "    fileOut.write(out)\n",
    "    fileOut.close()"
   ]
  },
  {
   "cell_type": "code",
   "execution_count": null,
   "metadata": {},
   "outputs": [],
   "source": []
  },
  {
   "cell_type": "code",
   "execution_count": 131,
   "metadata": {},
   "outputs": [
    {
     "data": {
      "text/plain": [
       "array([-26.7, -17.8,  -8.9,   0. ,   8.9])"
      ]
     },
     "execution_count": 131,
     "metadata": {},
     "output_type": "execute_result"
    }
   ],
   "source": [
    "spacings(-50.77, 15.83, 8.9, True, 5)"
   ]
  },
  {
   "cell_type": "markdown",
   "metadata": {},
   "source": [
    "## Ray tracing"
   ]
  },
  {
   "cell_type": "code",
   "execution_count": 94,
   "metadata": {},
   "outputs": [],
   "source": [
    "bat = \"cmd /k {tonatiuh} -i={file}\".format(\n",
    "    tonatiuh = os.getcwd() + \"/../../../installers/portable/bin/Tonatiuh-Application.exe\",\n",
    "    #tonatiuh = os.getcwd() + \"/../../../bin/Tonatiuh-Application.exe\",\n",
    "    file=\"makeField.tnhpps\"\n",
    ")\n",
    "\n",
    "def tnEta(x):\n",
    "    # input\n",
    "    writeLayout(x)\n",
    "    \n",
    "    # simulation\n",
    "    os.system(bat)\n",
    "    \n",
    "    # output\n",
    "    f = open(\"out.csv\", \"r\")\n",
    "    txt = f.read()\n",
    "    f.close()\n",
    "    return float(txt) "
   ]
  },
  {
   "cell_type": "code",
   "execution_count": 96,
   "metadata": {},
   "outputs": [
    {
     "data": {
      "text/plain": [
       "0.28055716595207797"
      ]
     },
     "execution_count": 96,
     "metadata": {},
     "output_type": "execute_result"
    }
   ],
   "source": [
    "eta = tnEta([6.5, 6.5, 6.5])\n",
    "eta"
   ]
  },
  {
   "cell_type": "markdown",
   "metadata": {},
   "source": [
    "## Scalar"
   ]
  },
  {
   "cell_type": "code",
   "execution_count": 166,
   "metadata": {},
   "outputs": [],
   "source": [
    "def tnFunc(x):\n",
    "    return -tnEta([x, x, x])"
   ]
  },
  {
   "cell_type": "code",
   "execution_count": 168,
   "metadata": {},
   "outputs": [
    {
     "name": "stdout",
     "output_type": "stream",
     "text": [
      " \n",
      " Func-count     x          f(x)          Procedure\n",
      "    1        6.90983    -0.280625        initial\n",
      "    2        8.09017    -0.289792        golden\n",
      "    3        8.81966    -0.292102        golden\n",
      "    4         9.1124     -0.27674        parabolic\n",
      "    5        8.54102    -0.290754        golden\n",
      "    6        8.93148    -0.293681        golden\n",
      "    7        9.00058    -0.278506        golden\n",
      "    8        8.88877    -0.292408        golden\n",
      "    9        8.95787    -0.291934        golden\n",
      "   10        8.91516    -0.291954        golden\n",
      "   11        8.94156    -0.292222        golden\n",
      "   12        8.92524    -0.292683        golden\n",
      "   13        8.93533    -0.292232        golden\n",
      "\n",
      "Optimization terminated successfully;\n",
      "The returned value satisfies the termination criteria\n",
      "(using xtol =  0.01 )\n"
     ]
    }
   ],
   "source": [
    "res = minimize_scalar(tnFunc, method='bounded', bounds=(5., 10.), options={'disp':3,'maxiter':20,'xatol':0.01})"
   ]
  },
  {
   "cell_type": "code",
   "execution_count": 169,
   "metadata": {},
   "outputs": [
    {
     "data": {
      "text/plain": [
       "     fun: -0.29368086389342885\n",
       " message: 'Solution found.'\n",
       "    nfev: 13\n",
       "  status: 0\n",
       " success: True\n",
       "       x: 8.931476221966411"
      ]
     },
     "execution_count": 169,
     "metadata": {},
     "output_type": "execute_result"
    }
   ],
   "source": [
    "res"
   ]
  },
  {
   "cell_type": "markdown",
   "metadata": {},
   "source": [
    "## Multivariate"
   ]
  },
  {
   "cell_type": "code",
   "execution_count": 175,
   "metadata": {},
   "outputs": [
    {
     "name": "stdout",
     "output_type": "stream",
     "text": [
      "Minimize a scalar function of one or more variables using the\n",
      "Constrained Optimization BY Linear Approximation (COBYLA) algorithm.\n",
      "\n",
      "Options\n",
      "-------\n",
      "rhobeg : float\n",
      "    Reasonable initial changes to the variables.\n",
      "tol : float\n",
      "    Final accuracy in the optimization (not precisely guaranteed).\n",
      "    This is a lower bound on the size of the trust region.\n",
      "disp : bool\n",
      "    Set to True to print convergence messages. If False,\n",
      "    `verbosity` is ignored as set to 0.\n",
      "maxiter : int\n",
      "    Maximum number of function evaluations.\n",
      "catol : float\n",
      "    Tolerance (absolute) for constraint violations\n"
     ]
    }
   ],
   "source": [
    "scipy.optimize.show_options(solver=\"minimize\", method=\"cobyla\")"
   ]
  },
  {
   "cell_type": "code",
   "execution_count": 176,
   "metadata": {},
   "outputs": [
    {
     "name": "stdout",
     "output_type": "stream",
     "text": [
      "iteration 1: 6.500, 6.500, 6.500, f=0.2758\n",
      "iteration 2: 7.500, 6.500, 6.500, f=0.2783\n",
      "iteration 3: 7.500, 7.500, 6.500, f=0.2856\n",
      "iteration 4: 7.500, 7.500, 7.500, f=0.2877\n",
      "iteration 5: 7.819, 8.408, 7.771, f=0.2905\n",
      "iteration 6: 6.945, 8.874, 7.910, f=0.2865\n",
      "iteration 7: 8.739, 8.517, 8.148, f=0.2924\n",
      "iteration 8: 9.213, 8.871, 7.343, f=0.2754\n",
      "iteration 9: 8.459, 8.496, 9.108, f=0.2945\n",
      "iteration 10: 8.592, 7.506, 9.168, f=0.2853\n",
      "iteration 11: 8.457, 9.466, 9.350, f=0.2800\n",
      "iteration 12: 8.458, 8.981, 9.229, f=0.2917\n",
      "iteration 13: 8.698, 8.479, 9.178, f=0.2915\n",
      "iteration 14: 8.004, 8.296, 9.050, f=0.2914\n",
      "iteration 15: 8.644, 8.357, 9.202, f=0.2914\n",
      "iteration 16: 8.513, 8.525, 8.866, f=0.2918\n",
      "iteration 17: 8.435, 8.604, 9.166, f=0.2926\n",
      "iteration 18: 8.357, 8.423, 9.108, f=0.2919\n",
      "iteration 19: 8.511, 8.470, 9.132, f=0.2936\n",
      "iteration 20: 8.474, 8.512, 9.050, f=0.2937\n",
      "iteration 21: 8.434, 8.476, 9.107, f=0.2915\n",
      "iteration 22: 8.463, 8.524, 9.120, f=0.2924\n",
      "iteration 23: 8.465, 8.497, 9.094, f=0.2919\n",
      "iteration 24: 8.468, 8.488, 9.117, f=0.2902\n",
      "iteration 25: 8.454, 8.504, 9.111, f=0.2900\n",
      "iteration 26: 8.452, 8.489, 9.106, f=0.2925\n"
     ]
    }
   ],
   "source": [
    "nFunc = 0\n",
    "def tnFunc(x):\n",
    "    global nFunc\n",
    "    nFunc = nFunc + 1\n",
    "    ans = tnEta(x)\n",
    "    print('iteration {0:d}: {1:.3f}, {2:.3f}, {3:.3f}, f={4:.4f}'.format(nFunc, x[0], x[1], x[2], ans))\n",
    "    return -ans\n",
    "\n",
    "res = minimize(\n",
    "    tnFunc, np.array([6.5, 6.5, 6.5]), constraints=[], tol=0.01,\n",
    "    method='cobyla', options={'maxiter': 1000, 'disp': True, 'catol': 0.1}\n",
    ")"
   ]
  },
  {
   "cell_type": "code",
   "execution_count": 177,
   "metadata": {},
   "outputs": [
    {
     "data": {
      "text/plain": [
       "     fun: -0.2925167032252503\n",
       "   maxcv: 0.0\n",
       " message: 'Optimization terminated successfully.'\n",
       "    nfev: 26\n",
       "  status: 1\n",
       " success: True\n",
       "       x: array([8.45179948, 8.48854137, 9.105979  ])"
      ]
     },
     "execution_count": 177,
     "metadata": {},
     "output_type": "execute_result"
    }
   ],
   "source": [
    "res"
   ]
  },
  {
   "cell_type": "code",
   "execution_count": 179,
   "metadata": {},
   "outputs": [
    {
     "name": "stdout",
     "output_type": "stream",
     "text": [
      "iteration 28: 8.452, 8.489, 9.106, f=0.2923\n"
     ]
    },
    {
     "data": {
      "text/plain": [
       "-0.2922722265902916"
      ]
     },
     "execution_count": 179,
     "metadata": {},
     "output_type": "execute_result"
    }
   ],
   "source": [
    "tnFunc(res.x)"
   ]
  },
  {
   "cell_type": "code",
   "execution_count": null,
   "metadata": {},
   "outputs": [],
   "source": []
  }
 ],
 "metadata": {
  "kernelspec": {
   "display_name": "Python 3",
   "language": "python",
   "name": "python3"
  },
  "language_info": {
   "codemirror_mode": {
    "name": "ipython",
    "version": 3
   },
   "file_extension": ".py",
   "mimetype": "text/x-python",
   "name": "python",
   "nbconvert_exporter": "python",
   "pygments_lexer": "ipython3",
   "version": "3.8.5"
  }
 },
 "nbformat": 4,
 "nbformat_minor": 4
}
