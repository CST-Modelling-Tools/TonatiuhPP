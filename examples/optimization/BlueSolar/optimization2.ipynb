{
 "cells": [
  {
   "cell_type": "code",
   "execution_count": 34,
   "metadata": {},
   "outputs": [],
   "source": [
    "# optimization of spacings between heliostats"
   ]
  },
  {
   "cell_type": "code",
   "execution_count": 35,
   "metadata": {},
   "outputs": [],
   "source": [
    "import os\n",
    "import math\n",
    "import numpy as np\n",
    "import matplotlib.pyplot as plt"
   ]
  },
  {
   "cell_type": "code",
   "execution_count": 36,
   "metadata": {},
   "outputs": [],
   "source": [
    "# https://docs.scipy.org/doc/scipy/reference/tutorial/optimize.html\n",
    "\n",
    "import scipy\n",
    "from scipy.optimize import minimize_scalar\n",
    "from scipy.optimize import minimize\n",
    "from scipy.optimize import Bounds\n",
    "from scipy import optimize"
   ]
  },
  {
   "cell_type": "markdown",
   "metadata": {},
   "source": [
    "## Generation of layout"
   ]
  },
  {
   "cell_type": "code",
   "execution_count": 37,
   "metadata": {},
   "outputs": [],
   "source": [
    "def findSpacings(xMin, xMax, xStep, isCentered, nMax):\n",
    "    # possible positions\n",
    "    x0 = 0. if isCentered else xStep/2;\n",
    "    ansP = np.arange(x0, xMax, xStep)\n",
    "    ansN = -np.arange(-(x0 - xStep), -xMin, xStep) \n",
    "    ans = np.concatenate((ansN, ansP))\n",
    "    # select\n",
    "    ans = sorted(ans, key=lambda x: abs(x))\n",
    "    ans = ans[0:min(nMax, len(ans))]\n",
    "    # sort\n",
    "    ans = np.sort(ans)\n",
    "    return ans"
   ]
  },
  {
   "cell_type": "code",
   "execution_count": 38,
   "metadata": {},
   "outputs": [],
   "source": [
    "def writeRow(letter, spacings, y, z, f):\n",
    "    ans = \"\"\n",
    "    for (i, x) in enumerate(spacings):\n",
    "        ans += \"{name},{sx:.3f} {sy:.3f} {sz:.3f},{sf:.3f}\\n\".format(\n",
    "        name=letter + str(i + 1).zfill(2),\n",
    "        sx=x,\n",
    "        sy=y,\n",
    "        sz=z,\n",
    "        sf=f\n",
    "    )\n",
    "    return ans"
   ]
  },
  {
   "cell_type": "code",
   "execution_count": 39,
   "metadata": {},
   "outputs": [],
   "source": [
    "nFunc=0\n",
    "def writeLayout(s):\n",
    "    out = \"Name,Position [m],Focus [m]\\n\"\n",
    "    out += writeRow(\"A\", findSpacings(-35.11, 27., s[0], True, 7), 46, 10, 46)\n",
    "    out += writeRow(\"B\", findSpacings(-42.5, 30.33, s[1], False, 8), 52, 14.5, 52)\n",
    "    out += writeRow(\"C\", findSpacings(-50.77, 15.83, s[2], True, 5), 58, 19.5, 58)\n",
    "    #print(out)\n",
    "    fileOut = open(\"heliostatsB.csv\",\"w\")\n",
    "    fileOut.write(out)\n",
    "    fileOut.close()\n",
    "    global nFunc\n",
    "    if not os.path.exists('temp'):\n",
    "        os.makedirs('temp')\n",
    "    fileOut = open(\"temp/heliostatsB{i}.csv\".format(i=nFunc),\"w\")\n",
    "    fileOut.write(out)\n",
    "    fileOut.close()"
   ]
  },
  {
   "cell_type": "code",
   "execution_count": null,
   "metadata": {},
   "outputs": [],
   "source": []
  },
  {
   "cell_type": "code",
   "execution_count": 40,
   "metadata": {},
   "outputs": [
    {
     "data": {
      "text/plain": [
       "array([-26.7, -17.8,  -8.9,   0. ,   8.9])"
      ]
     },
     "execution_count": 40,
     "metadata": {},
     "output_type": "execute_result"
    }
   ],
   "source": [
    "findSpacings(-50.77, 15.83, 8.9, True, 5)"
   ]
  },
  {
   "cell_type": "markdown",
   "metadata": {},
   "source": [
    "## Ray tracing"
   ]
  },
  {
   "cell_type": "code",
   "execution_count": 41,
   "metadata": {},
   "outputs": [],
   "source": [
    "bat = \"cmd /k {tonatiuh} -i={file}\".format(\n",
    "    tonatiuh = os.getcwd() + \"/../../../bin/Tonatiuh-Application.exe\",\n",
    "    file=\"makeField.tnhpps\"\n",
    ")\n",
    "\n",
    "def tnEta(x):\n",
    "    # input\n",
    "    writeLayout(x)\n",
    "    \n",
    "    # simulation\n",
    "    os.system(bat)\n",
    "    \n",
    "    # output\n",
    "    f = open(\"out.csv\", \"r\")\n",
    "    txt = f.read()\n",
    "    f.close()\n",
    "    return float(txt) "
   ]
  },
  {
   "cell_type": "code",
   "execution_count": 42,
   "metadata": {},
   "outputs": [
    {
     "data": {
      "text/plain": [
       "0.2861958913805672"
      ]
     },
     "execution_count": 42,
     "metadata": {},
     "output_type": "execute_result"
    }
   ],
   "source": [
    "eta = tnEta([6.5, 6.5, 6.5])\n",
    "eta"
   ]
  },
  {
   "cell_type": "markdown",
   "metadata": {},
   "source": [
    "## Scalar"
   ]
  },
  {
   "cell_type": "code",
   "execution_count": 43,
   "metadata": {},
   "outputs": [],
   "source": [
    "def tnFunc(x):\n",
    "    return -tnEta([x, x, x])"
   ]
  },
  {
   "cell_type": "code",
   "execution_count": 44,
   "metadata": {},
   "outputs": [],
   "source": [
    "#res = minimize_scalar(tnFunc, method='bounded', bounds=(5., 10.), options={'disp':3,'maxiter':20,'xatol':0.01})"
   ]
  },
  {
   "cell_type": "code",
   "execution_count": 45,
   "metadata": {},
   "outputs": [],
   "source": [
    "#res"
   ]
  },
  {
   "cell_type": "markdown",
   "metadata": {},
   "source": [
    "## Multivariate"
   ]
  },
  {
   "cell_type": "code",
   "execution_count": 46,
   "metadata": {},
   "outputs": [
    {
     "name": "stdout",
     "output_type": "stream",
     "text": [
      "Minimize a scalar function of one or more variables using the\n",
      "Constrained Optimization BY Linear Approximation (COBYLA) algorithm.\n",
      "\n",
      "Options\n",
      "-------\n",
      "rhobeg : float\n",
      "    Reasonable initial changes to the variables.\n",
      "tol : float\n",
      "    Final accuracy in the optimization (not precisely guaranteed).\n",
      "    This is a lower bound on the size of the trust region.\n",
      "disp : bool\n",
      "    Set to True to print convergence messages. If False,\n",
      "    `verbosity` is ignored as set to 0.\n",
      "maxiter : int\n",
      "    Maximum number of function evaluations.\n",
      "catol : float\n",
      "    Tolerance (absolute) for constraint violations\n"
     ]
    }
   ],
   "source": [
    "scipy.optimize.show_options(solver=\"minimize\", method=\"cobyla\")"
   ]
  },
  {
   "cell_type": "code",
   "execution_count": 47,
   "metadata": {},
   "outputs": [],
   "source": [
    "def tnFunc(x):\n",
    "    global nFunc\n",
    "    nFunc = nFunc + 1\n",
    "    ans = tnEta(x)\n",
    "    print('iteration {0:d}: {1:.3f}, {2:.3f}, {3:.3f}, f={4:.4f}'.format(nFunc, x[0], x[1], x[2], ans))\n",
    "    return -ans"
   ]
  },
  {
   "cell_type": "code",
   "execution_count": 48,
   "metadata": {},
   "outputs": [
    {
     "name": "stdout",
     "output_type": "stream",
     "text": [
      "iteration 1: 6.500, 6.500, 6.500, f=0.2741\n",
      "iteration 2: 7.500, 6.500, 6.500, f=0.2861\n",
      "iteration 3: 7.500, 7.500, 6.500, f=0.2831\n",
      "iteration 4: 7.500, 6.500, 7.500, f=0.2832\n",
      "iteration 5: 8.445, 6.265, 6.273, f=0.2902\n",
      "iteration 6: 9.014, 5.673, 5.702, f=0.2606\n",
      "iteration 7: 8.588, 6.743, 6.254, f=0.2915\n",
      "iteration 8: 8.644, 6.736, 6.497, f=0.2905\n",
      "iteration 9: 8.866, 6.863, 5.856, f=0.2817\n",
      "iteration 10: 8.124, 6.921, 6.311, f=0.2844\n",
      "iteration 11: 8.702, 6.734, 6.476, f=0.2888\n",
      "iteration 12: 8.656, 6.734, 6.150, f=0.2896\n",
      "iteration 13: 8.595, 6.805, 6.253, f=0.2790\n",
      "iteration 14: 8.558, 6.622, 6.257, f=0.2916\n",
      "iteration 15: 8.497, 6.634, 6.259, f=0.2826\n",
      "iteration 16: 8.559, 6.622, 6.288, f=0.2906\n",
      "iteration 17: 8.617, 6.607, 6.241, f=0.2963\n",
      "iteration 18: 8.671, 6.592, 6.213, f=0.2892\n",
      "iteration 19: 8.609, 6.577, 6.242, f=0.2859\n",
      "iteration 20: 8.644, 6.663, 6.234, f=0.2910\n",
      "iteration 21: 8.627, 6.578, 6.233, f=0.2914\n",
      "iteration 22: 8.614, 6.610, 6.226, f=0.2791\n",
      "iteration 23: 8.627, 6.607, 6.271, f=0.2874\n",
      "iteration 24: 8.619, 6.617, 6.229, f=0.2869\n",
      "iteration 25: 8.602, 6.603, 6.243, f=0.2840\n",
      "iteration 26: 8.622, 6.599, 6.238, f=0.2941\n",
      "iteration 27: 8.622, 6.609, 6.249, f=0.2939\n"
     ]
    }
   ],
   "source": [
    "nFunc = 0\n",
    "res = minimize(\n",
    "    tnFunc, np.array([6.5, 6.5, 6.5]), constraints=[], tol=0.01,\n",
    "    method='cobyla', options={'maxiter': 1000, 'disp': True, 'catol': 0.1}\n",
    ")"
   ]
  },
  {
   "cell_type": "code",
   "execution_count": 49,
   "metadata": {},
   "outputs": [
    {
     "data": {
      "text/plain": [
       "     fun: -0.2938610148585623\n",
       "   maxcv: 0.0\n",
       " message: 'Optimization terminated successfully.'\n",
       "    nfev: 27\n",
       "  status: 1\n",
       " success: True\n",
       "       x: array([8.62241995, 6.60903949, 6.24919826])"
      ]
     },
     "execution_count": 49,
     "metadata": {},
     "output_type": "execute_result"
    }
   ],
   "source": [
    "res"
   ]
  },
  {
   "cell_type": "code",
   "execution_count": 50,
   "metadata": {},
   "outputs": [
    {
     "name": "stdout",
     "output_type": "stream",
     "text": [
      "iteration 28: 8.622, 6.609, 6.249, f=0.2836\n"
     ]
    },
    {
     "data": {
      "text/plain": [
       "-0.2835651712493677"
      ]
     },
     "execution_count": 50,
     "metadata": {},
     "output_type": "execute_result"
    }
   ],
   "source": [
    "tnFunc(res.x)"
   ]
  },
  {
   "cell_type": "code",
   "execution_count": null,
   "metadata": {},
   "outputs": [],
   "source": []
  }
 ],
 "metadata": {
  "kernelspec": {
   "display_name": "Python 3",
   "language": "python",
   "name": "python3"
  },
  "language_info": {
   "codemirror_mode": {
    "name": "ipython",
    "version": 3
   },
   "file_extension": ".py",
   "mimetype": "text/x-python",
   "name": "python",
   "nbconvert_exporter": "python",
   "pygments_lexer": "ipython3",
   "version": "3.8.5"
  }
 },
 "nbformat": 4,
 "nbformat_minor": 4
}
