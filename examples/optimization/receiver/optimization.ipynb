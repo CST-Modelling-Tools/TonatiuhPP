{
 "cells": [
  {
   "cell_type": "code",
   "execution_count": 19,
   "metadata": {},
   "outputs": [],
   "source": [
    "import os\n",
    "\n",
    "import numpy as np\n",
    "import matplotlib.pyplot as plt\n",
    "\n",
    "import scipy\n",
    "from scipy.optimize import minimize_scalar"
   ]
  },
  {
   "cell_type": "code",
   "execution_count": 20,
   "metadata": {},
   "outputs": [],
   "source": [
    "# compute interception efficiency as a function of receiver height"
   ]
  },
  {
   "cell_type": "code",
   "execution_count": 21,
   "metadata": {},
   "outputs": [],
   "source": [
    "bat = \"cmd /k {tonatiuh} -i={file}\".format(\n",
    "    tonatiuh = os.getcwd() + \"/../../../installers/portable/bin/Tonatiuh-Application.exe\",\n",
    "    #tonatiuh = os.getcwd() + \"/../../../bin/Tonatiuh-Application.exe\",\n",
    "    file=\"RadialStagger.tnhpps\"\n",
    ")\n",
    "\n",
    "def tnRun(data):\n",
    "    # input\n",
    "    f = open(\"in.csv\", \"w\")\n",
    "    txt = \"{heightR},{rays}\".format(\n",
    "        heightR = data,\n",
    "        rays = 1e6\n",
    "    )\n",
    "    f.write(txt)\n",
    "    f.close()\n",
    "    \n",
    "    # simulation\n",
    "    os.system(bat)\n",
    "    \n",
    "    # output\n",
    "    f = open(\"out.csv\", \"r\")\n",
    "    txt = f.read()\n",
    "    f.close()\n",
    "    ans = float(txt.split(',')[1])\n",
    "    return ans"
   ]
  },
  {
   "cell_type": "code",
   "execution_count": 22,
   "metadata": {},
   "outputs": [
    {
     "name": "stdout",
     "output_type": "stream",
     "text": [
      "0.7600005467305385\n"
     ]
    }
   ],
   "source": [
    "etaMax = tnRun(5.) # saturation\n",
    "print(etaMax)"
   ]
  },
  {
   "cell_type": "code",
   "execution_count": 23,
   "metadata": {},
   "outputs": [],
   "source": [
    "# artificial minimum slightly below saturation\n",
    "def tnFunc(h):\n",
    "    return ((tnRun(h) - 0.95*etaMax)*100)**2    "
   ]
  },
  {
   "cell_type": "code",
   "execution_count": 24,
   "metadata": {},
   "outputs": [
    {
     "data": {
      "text/plain": [
       "[<matplotlib.lines.Line2D at 0x1e67b53fc88>]"
      ]
     },
     "execution_count": 24,
     "metadata": {},
     "output_type": "execute_result"
    },
    {
     "data": {
      "image/png": "[encoded data removed]",
      "text/plain": [
       "<Figure size 432x288 with 1 Axes>"
      ]
     },
     "metadata": {
      "needs_background": "light"
     },
     "output_type": "display_data"
    }
   ],
   "source": [
    "hs = np.linspace(0.7, 1.5, 10)\n",
    "fs = [tnFunc(h) for h in hs]\n",
    "plt.plot(hs, fs)"
   ]
  },
  {
   "cell_type": "code",
   "execution_count": 25,
   "metadata": {
    "scrolled": true
   },
   "outputs": [
    {
     "name": "stdout",
     "output_type": "stream",
     "text": [
      "Options\n",
      "-------\n",
      "maxiter : int\n",
      "    Maximum number of iterations to perform.\n",
      "disp: int, optional\n",
      "    If non-zero, print messages.\n",
      "        0 : no message printing.\n",
      "        1 : non-convergence notification messages only.\n",
      "        2 : print a message on convergence too.\n",
      "        3 : print iteration results.\n",
      "xatol : float\n",
      "    Absolute error in solution `xopt` acceptable for convergence.\n"
     ]
    }
   ],
   "source": [
    "scipy.optimize.show_options(solver=\"minimize_scalar\", method=\"bounded\")"
   ]
  },
  {
   "cell_type": "code",
   "execution_count": 26,
   "metadata": {},
   "outputs": [
    {
     "name": "stdout",
     "output_type": "stream",
     "text": [
      " \n",
      " Func-count     x          f(x)          Procedure\n",
      "    1        1.00557      1.66791        initial\n",
      "    2        1.19443      7.59278        golden\n",
      "    3       0.888854     0.202191        golden\n",
      "    4       0.845239      2.12465        parabolic\n",
      "    5       0.929438    0.0655928        parabolic\n",
      "    6       0.917193  0.000562679        parabolic\n",
      "    7       0.913859    0.0667584        parabolic\n",
      "    8       0.921672  0.000497447        parabolic\n",
      "    9       0.925005    0.0726451        golden\n",
      "\n",
      "Optimization terminated successfully;\n",
      "The returned value satisfies the termination criteria\n",
      "(using xtol =  0.01 )\n"
     ]
    }
   ],
   "source": [
    "res = minimize_scalar(tnFunc, method='bounded', bounds=(0.7, 1.5), options={'disp':3,'maxiter':20,'xatol':0.01})"
   ]
  },
  {
   "cell_type": "code",
   "execution_count": 27,
   "metadata": {},
   "outputs": [
    {
     "data": {
      "text/plain": [
       "0.921671824510876"
      ]
     },
     "execution_count": 27,
     "metadata": {},
     "output_type": "execute_result"
    }
   ],
   "source": [
    "res.x"
   ]
  },
  {
   "cell_type": "code",
   "execution_count": null,
   "metadata": {},
   "outputs": [],
   "source": []
  }
 ],
 "metadata": {
  "kernelspec": {
   "display_name": "Python 3",
   "language": "python",
   "name": "python3"
  },
  "language_info": {
   "codemirror_mode": {
    "name": "ipython",
    "version": 3
   },
   "file_extension": ".py",
   "mimetype": "text/x-python",
   "name": "python",
   "nbconvert_exporter": "python",
   "pygments_lexer": "ipython3",
   "version": "3.7.6"
  }
 },
 "nbformat": 4,
 "nbformat_minor": 4
}
