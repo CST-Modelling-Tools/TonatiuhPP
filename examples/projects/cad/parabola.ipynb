{
 "cells": [
  {
   "cell_type": "code",
   "execution_count": 1,
   "metadata": {},
   "outputs": [],
   "source": [
    "import math\n",
    "import mathutils as mu\n",
    "import numpy as np"
   ]
  },
  {
   "cell_type": "code",
   "execution_count": 2,
   "metadata": {},
   "outputs": [],
   "source": [
    "class ShapeParabola: \n",
    "    # points and normals for parabola\n",
    "    \n",
    "    def __init__(self, focus = 1.):\n",
    "        self.focus = focus\n",
    "        \n",
    "    def point(self, u, v):\n",
    "        return mu.Vector((\n",
    "            u,\n",
    "            v,\n",
    "            (u*u + v*v)/(4.*self.focus)\n",
    "        ))\n",
    "    \n",
    "    def normal(self, u, v):\n",
    "        return mu.Vector((\n",
    "            -u/self.focus,\n",
    "            -v/self.focus,\n",
    "            2.        \n",
    "        )).normalized()"
   ]
  },
  {
   "cell_type": "code",
   "execution_count": 3,
   "metadata": {},
   "outputs": [],
   "source": [
    "shape = ShapeParabola(1.)"
   ]
  },
  {
   "cell_type": "code",
   "execution_count": 4,
   "metadata": {},
   "outputs": [],
   "source": [
    "def toText(v):\n",
    "    return ' '.join([str(c) for c in v])"
   ]
  },
  {
   "cell_type": "markdown",
   "metadata": {},
   "source": [
    "## normal map (Inventor format)"
   ]
  },
  {
   "cell_type": "code",
   "execution_count": 5,
   "metadata": {},
   "outputs": [],
   "source": [
    "nMax = 3\n",
    "mMax = 3\n",
    "points = [\n",
    "    (u, v)\n",
    "    for u in np.linspace(-0.5, 0.5, nMax)\n",
    "    for v in np.linspace(-0.5, 0.5, mMax)]"
   ]
  },
  {
   "cell_type": "code",
   "execution_count": 6,
   "metadata": {},
   "outputs": [],
   "source": [
    "normals = [shape.normal(p[0], p[1]) for p in points]"
   ]
  },
  {
   "cell_type": "code",
   "execution_count": 7,
   "metadata": {},
   "outputs": [
    {
     "data": {
      "text/plain": [
       "'0.2357022762298584 0.2357022762298584 0.9428091049194336, 0.24253563582897186 -0.0 0.9701425433158875, 0.2357022762298584 -0.2357022762298584 0.9428091049194336, -0.0 0.24253563582897186 0.9701425433158875, -0.0 -0.0 1.0, -0.0 -0.24253563582897186 0.9701425433158875, -0.2357022762298584 0.2357022762298584 0.9428091049194336, -0.24253563582897186 -0.0 0.9701425433158875, -0.2357022762298584 -0.2357022762298584 0.9428091049194336'"
      ]
     },
     "execution_count": 7,
     "metadata": {},
     "output_type": "execute_result"
    }
   ],
   "source": [
    "', '.join([toText(n) for n in normals])"
   ]
  },
  {
   "cell_type": "markdown",
   "metadata": {},
   "source": [
    "## mesh (smooth, per vertex normal, obj format)"
   ]
  },
  {
   "cell_type": "code",
   "execution_count": 8,
   "metadata": {},
   "outputs": [],
   "source": [
    "nMax = 5\n",
    "mMax = 5\n",
    "points = [\n",
    "    (u, v)\n",
    "    for u in np.linspace(-0.5, 0.5, nMax)\n",
    "    for v in np.linspace(-0.5, 0.5, mMax)]"
   ]
  },
  {
   "cell_type": "code",
   "execution_count": 9,
   "metadata": {},
   "outputs": [],
   "source": [
    "vertices = [shape.point(p[0], p[1]) for p in points]\n",
    "normals = [shape.normal(p[0], p[1]) for p in points]"
   ]
  },
  {
   "cell_type": "code",
   "execution_count": 10,
   "metadata": {},
   "outputs": [],
   "source": [
    "def toIndex(n, m):\n",
    "    return n*mMax + m + 1\n",
    "\n",
    "faces = np.array([\n",
    "    [(toIndex(n, m), toIndex(n + 1, m), toIndex(n, m + 1)),\n",
    "     (toIndex(n + 1, m + 1), toIndex(n, m + 1), toIndex(n + 1, m))]      \n",
    " for n in range(nMax - 1)\n",
    " for m in range(mMax - 1)\n",
    "])\n",
    "faces = faces.reshape(-1, 3)"
   ]
  },
  {
   "cell_type": "code",
   "execution_count": 11,
   "metadata": {},
   "outputs": [],
   "source": [
    "out = ''\n",
    "out += '\\n'.join([\"v \" + toText(v) for v in vertices]) + '\\n'\n",
    "out += '\\n'.join([\"vn \" + toText(n) for n in normals]) + '\\n'\n",
    "out += \"s 1\\n\"\n",
    "out += '\\n'.join([\"f {0}//{0} {1}//{1} {2}//{2}\".format(a, b, c) for (a, b, c) in faces])\n",
    "#print(out)\n",
    "fileOut = open(\"parabolaSmooth.obj\", \"w\")\n",
    "fileOut.write(out)\n",
    "fileOut.close()"
   ]
  },
  {
   "cell_type": "markdown",
   "metadata": {},
   "source": [
    "## mesh (flat, per face normal, obj format)"
   ]
  },
  {
   "cell_type": "code",
   "execution_count": 12,
   "metadata": {},
   "outputs": [],
   "source": [
    "faceNormals = [\n",
    "    (normals[f[0] - 1] + normals[f[1] - 1] + normals[f[2] - 1]).normalized()\n",
    "    for f in faces]"
   ]
  },
  {
   "cell_type": "code",
   "execution_count": 13,
   "metadata": {},
   "outputs": [],
   "source": [
    "out = ''\n",
    "out += '\\n'.join([\"v \" + toText(v) for v in vertices]) + '\\n'\n",
    "out += '\\n'.join([\"vn \" + toText(n) for n in faceNormals]) + '\\n'\n",
    "out += \"s off\\n\"\n",
    "out += '\\n'.join([\"f {0}//{3} {1}//{3} {2}//{3}\".format(f[0], f[1], f[2], n) for (n, f) in enumerate(faces, 1)])\n",
    "#print(out)\n",
    "fileOut = open(\"parabolaFlat.obj\", \"w\")\n",
    "fileOut.write(out)\n",
    "fileOut.close()"
   ]
  },
  {
   "cell_type": "code",
   "execution_count": null,
   "metadata": {},
   "outputs": [],
   "source": []
  }
 ],
 "metadata": {
  "kernelspec": {
   "display_name": "Python 3",
   "language": "python",
   "name": "python3"
  },
  "language_info": {
   "codemirror_mode": {
    "name": "ipython",
    "version": 3
   },
   "file_extension": ".py",
   "mimetype": "text/x-python",
   "name": "python",
   "nbconvert_exporter": "python",
   "pygments_lexer": "ipython3",
   "version": "3.7.6"
  }
 },
 "nbformat": 4,
 "nbformat_minor": 4
}
