{
 "cells": [
  {
   "cell_type": "code",
   "execution_count": 1,
   "metadata": {},
   "outputs": [],
   "source": [
    "import math\n",
    "import mathutils as mu\n",
    "import numpy as np"
   ]
  },
  {
   "cell_type": "code",
   "execution_count": 2,
   "metadata": {},
   "outputs": [],
   "source": [
    "focus = 1."
   ]
  },
  {
   "cell_type": "code",
   "execution_count": 3,
   "metadata": {},
   "outputs": [],
   "source": [
    "def findNormal(u, v):\n",
    "    return mu.Vector((\n",
    "        -u/focus,\n",
    "        -v/focus,\n",
    "        2.        \n",
    "    )).normalized()"
   ]
  },
  {
   "cell_type": "code",
   "execution_count": 4,
   "metadata": {},
   "outputs": [],
   "source": [
    "def toText(v):\n",
    "    return ' '.join([str(c) for c in v])"
   ]
  },
  {
   "cell_type": "code",
   "execution_count": 5,
   "metadata": {},
   "outputs": [],
   "source": [
    "data = np.array([[\n",
    "    toText(findNormal(u, v))\n",
    " for v in np.linspace(-0.5, 0.5, 3)]\n",
    " for u in np.linspace(-0.5, 0.5, 3)]\n",
    ")"
   ]
  },
  {
   "cell_type": "code",
   "execution_count": 6,
   "metadata": {},
   "outputs": [
    {
     "data": {
      "text/plain": [
       "'0.2357022762298584 0.2357022762298584 0.9428091049194336, 0.24253563582897186 -0.0 0.9701425433158875, 0.2357022762298584 -0.2357022762298584 0.9428091049194336, -0.0 0.24253563582897186 0.9701425433158875, -0.0 -0.0 1.0, -0.0 -0.24253563582897186 0.9701425433158875, -0.2357022762298584 0.2357022762298584 0.9428091049194336, -0.24253563582897186 -0.0 0.9701425433158875, -0.2357022762298584 -0.2357022762298584 0.9428091049194336'"
      ]
     },
     "execution_count": 6,
     "metadata": {},
     "output_type": "execute_result"
    }
   ],
   "source": [
    "', '.join(data.flatten('C'))"
   ]
  },
  {
   "cell_type": "code",
   "execution_count": null,
   "metadata": {},
   "outputs": [],
   "source": []
  }
 ],
 "metadata": {
  "kernelspec": {
   "display_name": "Python 3",
   "language": "python",
   "name": "python3"
  },
  "language_info": {
   "codemirror_mode": {
    "name": "ipython",
    "version": 3
   },
   "file_extension": ".py",
   "mimetype": "text/x-python",
   "name": "python",
   "nbconvert_exporter": "python",
   "pygments_lexer": "ipython3",
   "version": "3.7.1"
  }
 },
 "nbformat": 4,
 "nbformat_minor": 4
}
