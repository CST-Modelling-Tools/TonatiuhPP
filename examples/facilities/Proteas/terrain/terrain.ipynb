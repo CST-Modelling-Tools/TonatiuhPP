{
 "cells": [
  {
   "cell_type": "code",
   "execution_count": 1,
   "metadata": {},
   "outputs": [],
   "source": [
    "import math\n",
    "import mathutils as mu\n",
    "import numpy as np\n",
    "import csv"
   ]
  },
  {
   "cell_type": "code",
   "execution_count": 2,
   "metadata": {},
   "outputs": [
    {
     "name": "stdout",
     "output_type": "stream",
     "text": [
      "Processed 170 vertices\n"
     ]
    }
   ],
   "source": [
    "nMax = 5\n",
    "mMax = 5\n",
    "vertices = []\n",
    "normals = []\n",
    "with open('terrain.csv', mode='r') as csv_file:\n",
    "    csv_reader = csv.reader(csv_file, delimiter=',', quoting=csv.QUOTE_NONNUMERIC)\n",
    "    line_count = 0\n",
    "    for row in csv_reader:\n",
    "        if line_count == 0:\n",
    "            nMax = int(row[0])\n",
    "            mMax = int(row[1])\n",
    "        else:\n",
    "            v = mu.Vector((row[0], row[1], row[2]))\n",
    "            vertices.append(v)\n",
    "            n = mu.Vector((row[3], row[4], row[5]))\n",
    "            normals.append(n)\n",
    "        line_count += 1\n",
    "    print(f'Processed {line_count} vertices')"
   ]
  },
  {
   "cell_type": "code",
   "execution_count": 3,
   "metadata": {},
   "outputs": [],
   "source": [
    "def toIndex(n, m):\n",
    "    return n*mMax + m + 1\n",
    "\n",
    "faces = np.array([\n",
    "    [(toIndex(n, m), toIndex(n + 1, m), toIndex(n, m + 1)),\n",
    "     (toIndex(n + 1, m + 1), toIndex(n, m + 1), toIndex(n + 1, m))]      \n",
    " for n in range(nMax - 1)\n",
    " for m in range(mMax - 1)\n",
    "])\n",
    "faces = faces.reshape(-1, 3)"
   ]
  },
  {
   "cell_type": "code",
   "execution_count": 4,
   "metadata": {},
   "outputs": [],
   "source": [
    "def toText(v):\n",
    "    return ' '.join([str(c) for c in v])"
   ]
  },
  {
   "cell_type": "code",
   "execution_count": 9,
   "metadata": {},
   "outputs": [],
   "source": [
    "out = ''\n",
    "out += '\\n'.join([\"v \" + toText(v) for v in vertices]) + '\\n'\n",
    "out += '\\n'.join([\"vn \" + toText(n) for n in normals]) + '\\n'\n",
    "out += \"s 1\\n\"\n",
    "out += '\\n'.join([\"f {0}//{0} {1}//{1} {2}//{2}\".format(a, b, c) for (a, b, c) in faces])\n",
    "#print(out)"
   ]
  },
  {
   "cell_type": "code",
   "execution_count": 6,
   "metadata": {},
   "outputs": [],
   "source": [
    "fileOut = open(r\"terrain.obj\",\"w\")\n",
    "fileOut.write(out)\n",
    "fileOut.close()"
   ]
  },
  {
   "cell_type": "code",
   "execution_count": null,
   "metadata": {},
   "outputs": [],
   "source": []
  }
 ],
 "metadata": {
  "kernelspec": {
   "display_name": "Python 3",
   "language": "python",
   "name": "python3"
  },
  "language_info": {
   "codemirror_mode": {
    "name": "ipython",
    "version": 3
   },
   "file_extension": ".py",
   "mimetype": "text/x-python",
   "name": "python",
   "nbconvert_exporter": "python",
   "pygments_lexer": "ipython3",
   "version": "3.7.6"
  }
 },
 "nbformat": 4,
 "nbformat_minor": 4
}
